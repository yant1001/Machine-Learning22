{
 "cells": [
  {
   "cell_type": "markdown",
   "id": "77c97411-01e0-4998-888a-acac6e7f0cbd",
   "metadata": {},
   "source": [
    "- 모든 알고리즘이 분류와 회귀를 가지고 있다.\n",
    "- 그 중 분류는 tree, 회귀는 선형 알고리즘에 대해 알아볼 예정.\n",
    "- 분류(Classification)는 학습 데이터로 주어진 데이터의 feature, label 값을 머신러닝 알고리즘으로 학습하여 모델을 생성한다. 해당 모델에 test(새로운 데이터) 값을 입력한 후 label 값을 예측하게 한다.\n",
    "- 대표적인 분류 알고리즘\n",
    "  - 결정 트리 (Decision Tree)\n",
    "  - 앙상블 (Ensemble)"
   ]
  },
  {
   "cell_type": "markdown",
   "id": "d53000b3-1661-47e3-9dcf-68349a84640e",
   "metadata": {},
   "source": [
    "# 5. 트리 모델\n",
    "- 데이터에 있는 규칙을 학습을 통해 자동으로 찾아내는 트리 기반의 비선형 알고리즘 분류 규칙.\n",
    "- 데이터의 분할 기준 규칙이 알고리즘 성능에 크게 작용한다.\n",
    "- 이진트리 (binary tree) 라고도 한다.\n",
    "- `Root Node` == 시작 규칙 노드\n",
    "- `Rule Node` == 분류를 위해 규칙을 만들어 주는 노드\n",
    "- `Leaf Node (Pure Node)` == 더 이상 분류를 위한 규칙을 마련할 수 없는 결정된 분류값이 들어있는 가장 마지막 노드 (분류 100% 완료 상태)\n",
    "- `Branch (Sub Tree)` == 생성된 룰 노드에 의해 하위 트리가 만들어진 형태\n",
    "- `Depth` == 서브 트리가 생성될수록 깊이가 증가하고, 질문의 깊이가 깊어질수록 질문이 많고 복잡해진다."
   ]
  },
  {
   "cell_type": "code",
   "execution_count": 1,
   "id": "1d03af11-84f6-4863-8df5-d95e82a06d85",
   "metadata": {},
   "outputs": [],
   "source": [
    "# 불필요한 경고 메시지 삭제\n",
    "\n",
    "import warnings\n",
    "warnings.filterwarnings('ignore')"
   ]
  },
  {
   "cell_type": "markdown",
   "id": "4aaf796e-cbd9-4cb5-b9e7-3e7101977923",
   "metadata": {},
   "source": [
    "## 데이터 불러오기"
   ]
  },
  {
   "cell_type": "code",
   "execution_count": 3,
   "id": "ff5bfb0b-6f9d-4104-97a1-105105b0085e",
   "metadata": {},
   "outputs": [],
   "source": [
    "from sklearn.datasets import load_iris\n",
    "from sklearn.model_selection import train_test_split\n",
    "\n",
    "iris_data = load_iris()\n",
    "\n",
    "X_train, X_test, y_train, y_test = train_test_split(\n",
    "  iris_data.data,\n",
    "  iris_data.target,\n",
    "  test_size=0.2,\n",
    "  random_state=11\n",
    ")"
   ]
  },
  {
   "cell_type": "markdown",
   "id": "ea94f301-46a3-4e69-8db8-330ce4c7647d",
   "metadata": {},
   "source": [
    "## 결정트리 모델 생성"
   ]
  },
  {
   "cell_type": "code",
   "execution_count": null,
   "id": "9a3c38bb-f64d-48ee-83ac-91ee78af4901",
   "metadata": {},
   "outputs": [],
   "source": [
    "from sk"
   ]
  },
  {
   "cell_type": "code",
   "execution_count": null,
   "id": "271418ae-5001-4aeb-a4bf-4017cae093e0",
   "metadata": {},
   "outputs": [],
   "source": []
  },
  {
   "cell_type": "code",
   "execution_count": null,
   "id": "1429790a-7b7a-439e-9cab-ed246a3d87f9",
   "metadata": {},
   "outputs": [],
   "source": []
  },
  {
   "cell_type": "code",
   "execution_count": null,
   "id": "cf8fbaa4-25cc-4633-9521-bb520b98f05e",
   "metadata": {},
   "outputs": [],
   "source": []
  },
  {
   "cell_type": "code",
   "execution_count": null,
   "id": "940778b5-648a-4e03-ba64-68e4458e36f6",
   "metadata": {},
   "outputs": [],
   "source": []
  },
  {
   "cell_type": "code",
   "execution_count": null,
   "id": "7402d764-f18d-4774-ab86-8837bd516016",
   "metadata": {},
   "outputs": [],
   "source": []
  },
  {
   "cell_type": "code",
   "execution_count": null,
   "id": "d464294c-555f-4c50-acf1-a426d8f7132a",
   "metadata": {},
   "outputs": [],
   "source": []
  },
  {
   "cell_type": "code",
   "execution_count": null,
   "id": "2a4afea6-fdfd-409a-8078-b6f2f6eb6ef3",
   "metadata": {},
   "outputs": [],
   "source": []
  },
  {
   "cell_type": "code",
   "execution_count": null,
   "id": "d189b020-3402-4297-b060-e985bbfc2d19",
   "metadata": {},
   "outputs": [],
   "source": []
  },
  {
   "cell_type": "code",
   "execution_count": null,
   "id": "54fff8f1-5329-48d8-b1d2-6442dee77571",
   "metadata": {},
   "outputs": [],
   "source": []
  },
  {
   "cell_type": "code",
   "execution_count": null,
   "id": "baf21495-b78d-4edc-8382-ecad21993a4f",
   "metadata": {},
   "outputs": [],
   "source": []
  },
  {
   "cell_type": "code",
   "execution_count": null,
   "id": "1cc9674f-5879-4dd7-83f0-9f319ea6b296",
   "metadata": {},
   "outputs": [],
   "source": []
  },
  {
   "cell_type": "code",
   "execution_count": null,
   "id": "e62adea2-4368-479b-aa08-c6cf44271960",
   "metadata": {},
   "outputs": [],
   "source": []
  },
  {
   "cell_type": "code",
   "execution_count": null,
   "id": "1aa13cfc-b048-48d0-a01f-22485ecc4d03",
   "metadata": {},
   "outputs": [],
   "source": []
  },
  {
   "cell_type": "code",
   "execution_count": null,
   "id": "1b5c5760-0c98-4e1c-b3d3-a90554cdd5f2",
   "metadata": {},
   "outputs": [],
   "source": []
  },
  {
   "cell_type": "code",
   "execution_count": null,
   "id": "52c97dbd-ec94-4b02-852f-fa73170f706d",
   "metadata": {},
   "outputs": [],
   "source": []
  },
  {
   "cell_type": "code",
   "execution_count": null,
   "id": "a4a2a457-d561-4718-91e6-69133214e97d",
   "metadata": {},
   "outputs": [],
   "source": []
  },
  {
   "cell_type": "code",
   "execution_count": null,
   "id": "c9e2aa85-f5f5-4174-bdf5-79f0e57254d3",
   "metadata": {},
   "outputs": [],
   "source": []
  },
  {
   "cell_type": "code",
   "execution_count": null,
   "id": "2de2a50f-d9c9-4ce5-b5e8-bd97dd23159c",
   "metadata": {},
   "outputs": [],
   "source": []
  },
  {
   "cell_type": "code",
   "execution_count": null,
   "id": "ec7985cb-1825-4837-872c-e22319cc41d6",
   "metadata": {},
   "outputs": [],
   "source": []
  },
  {
   "cell_type": "code",
   "execution_count": null,
   "id": "f0764747-7cf9-4840-82c2-3158b42f21ef",
   "metadata": {},
   "outputs": [],
   "source": []
  },
  {
   "cell_type": "code",
   "execution_count": null,
   "id": "09d830b3-9383-4cf8-b221-8c6cbb99ba31",
   "metadata": {},
   "outputs": [],
   "source": []
  },
  {
   "cell_type": "code",
   "execution_count": null,
   "id": "b8070ed1-a497-4e88-a50d-023c28bc514b",
   "metadata": {},
   "outputs": [],
   "source": []
  },
  {
   "cell_type": "code",
   "execution_count": null,
   "id": "934e1fdf-c7f0-45f5-ba88-531a4338345c",
   "metadata": {},
   "outputs": [],
   "source": []
  },
  {
   "cell_type": "code",
   "execution_count": null,
   "id": "e2dd1d0a-2c75-462f-97d6-0c1f37d849a9",
   "metadata": {},
   "outputs": [],
   "source": []
  },
  {
   "cell_type": "code",
   "execution_count": null,
   "id": "b7ff261e-81fc-4ef6-85cd-e23d68f1424d",
   "metadata": {},
   "outputs": [],
   "source": []
  },
  {
   "cell_type": "code",
   "execution_count": null,
   "id": "5bed0f36-f6c3-4b60-843a-cb7d42deac4c",
   "metadata": {},
   "outputs": [],
   "source": []
  },
  {
   "cell_type": "code",
   "execution_count": null,
   "id": "7e4b0c3e-450f-439c-ad04-c358dcda2194",
   "metadata": {},
   "outputs": [],
   "source": []
  },
  {
   "cell_type": "code",
   "execution_count": null,
   "id": "fe4de458-5c03-4ddd-a7ec-af20dbdf079d",
   "metadata": {},
   "outputs": [],
   "source": []
  },
  {
   "cell_type": "code",
   "execution_count": null,
   "id": "14c262fa-3141-4b04-a6d7-09c28a112301",
   "metadata": {},
   "outputs": [],
   "source": []
  },
  {
   "cell_type": "code",
   "execution_count": null,
   "id": "eb20230b-7f1e-40fc-a09c-57adb03af7cf",
   "metadata": {},
   "outputs": [],
   "source": []
  },
  {
   "cell_type": "code",
   "execution_count": null,
   "id": "309693d5-cf36-4de3-83a4-bb99fcc4cae1",
   "metadata": {},
   "outputs": [],
   "source": []
  },
  {
   "cell_type": "code",
   "execution_count": null,
   "id": "fe59a1d5-df12-4229-9b71-1176ea1cf47a",
   "metadata": {},
   "outputs": [],
   "source": []
  },
  {
   "cell_type": "code",
   "execution_count": null,
   "id": "333cdd65-03ff-4034-b262-f1ce9e769177",
   "metadata": {},
   "outputs": [],
   "source": []
  },
  {
   "cell_type": "code",
   "execution_count": null,
   "id": "1c2878a0-2947-435c-be20-d0323b83e8d0",
   "metadata": {},
   "outputs": [],
   "source": []
  },
  {
   "cell_type": "code",
   "execution_count": null,
   "id": "2fdae26c-7984-444d-be1e-c7b7f5e1820e",
   "metadata": {},
   "outputs": [],
   "source": []
  },
  {
   "cell_type": "code",
   "execution_count": null,
   "id": "b6019a86-ccc4-4940-a986-3d1b9181ca86",
   "metadata": {},
   "outputs": [],
   "source": []
  },
  {
   "cell_type": "code",
   "execution_count": null,
   "id": "f7e49b33-dbe2-4614-a291-1d692d954157",
   "metadata": {},
   "outputs": [],
   "source": []
  },
  {
   "cell_type": "code",
   "execution_count": null,
   "id": "c4efc7d1-cbc0-4e9e-ad10-3f17a4fecd39",
   "metadata": {},
   "outputs": [],
   "source": []
  },
  {
   "cell_type": "code",
   "execution_count": null,
   "id": "82a75ee6-6daa-4f49-b513-1d50e78f44bb",
   "metadata": {},
   "outputs": [],
   "source": []
  },
  {
   "cell_type": "code",
   "execution_count": null,
   "id": "24f1ec7a-a774-459a-8967-dc77cd111dd4",
   "metadata": {},
   "outputs": [],
   "source": []
  },
  {
   "cell_type": "code",
   "execution_count": null,
   "id": "871d55c0-00f1-49e8-a750-f43958c90b34",
   "metadata": {},
   "outputs": [],
   "source": []
  },
  {
   "cell_type": "code",
   "execution_count": null,
   "id": "64ee18e4-747f-43bd-84e3-dc0c196e12b6",
   "metadata": {},
   "outputs": [],
   "source": []
  },
  {
   "cell_type": "code",
   "execution_count": null,
   "id": "36890ade-f98e-4891-9a5b-8456901a657f",
   "metadata": {},
   "outputs": [],
   "source": []
  },
  {
   "cell_type": "code",
   "execution_count": null,
   "id": "a4e17039-5433-405a-aa5c-8012d8e935c4",
   "metadata": {},
   "outputs": [],
   "source": []
  },
  {
   "cell_type": "code",
   "execution_count": null,
   "id": "31015d0c-c844-4b44-8c7f-9d2caaadaa88",
   "metadata": {},
   "outputs": [],
   "source": []
  },
  {
   "cell_type": "code",
   "execution_count": null,
   "id": "4ee3e07d-ab00-40eb-a6ea-0ec7e9c453b3",
   "metadata": {},
   "outputs": [],
   "source": []
  },
  {
   "cell_type": "code",
   "execution_count": null,
   "id": "91c7d742-9310-4bbd-adec-37201db8396a",
   "metadata": {},
   "outputs": [],
   "source": []
  },
  {
   "cell_type": "code",
   "execution_count": null,
   "id": "39ac887b-ab4c-4619-b9a7-971bb6d2da39",
   "metadata": {},
   "outputs": [],
   "source": []
  },
  {
   "cell_type": "code",
   "execution_count": null,
   "id": "d8f645a2-bd6a-4f76-8fb1-5856176aa7cf",
   "metadata": {},
   "outputs": [],
   "source": []
  },
  {
   "cell_type": "code",
   "execution_count": null,
   "id": "345be08e-815f-4e45-91b0-afe034830a5b",
   "metadata": {},
   "outputs": [],
   "source": []
  },
  {
   "cell_type": "code",
   "execution_count": null,
   "id": "aa39f311-a72a-45b4-a2fc-5741c8ed1186",
   "metadata": {},
   "outputs": [],
   "source": []
  },
  {
   "cell_type": "code",
   "execution_count": null,
   "id": "c48a0970-6e9e-4d8a-81e3-ed8f98ced2a9",
   "metadata": {},
   "outputs": [],
   "source": []
  },
  {
   "cell_type": "code",
   "execution_count": null,
   "id": "49e0ce7e-ba47-4360-a9e5-aff49f1f3f44",
   "metadata": {},
   "outputs": [],
   "source": []
  },
  {
   "cell_type": "code",
   "execution_count": null,
   "id": "7b46f301-5f3b-4a71-b952-d1713303cd39",
   "metadata": {},
   "outputs": [],
   "source": []
  },
  {
   "cell_type": "code",
   "execution_count": null,
   "id": "8140c402-338b-4c13-80fc-0a824bd3124e",
   "metadata": {},
   "outputs": [],
   "source": []
  },
  {
   "cell_type": "code",
   "execution_count": null,
   "id": "16fd25ec-8c91-4781-b9ba-b9653e63ce9e",
   "metadata": {},
   "outputs": [],
   "source": []
  },
  {
   "cell_type": "code",
   "execution_count": null,
   "id": "4e30069e-f8f2-4a90-b3ad-fe4abc2599e0",
   "metadata": {},
   "outputs": [],
   "source": []
  },
  {
   "cell_type": "code",
   "execution_count": null,
   "id": "0234da0e-d1a7-4778-ad07-7ace0512bb62",
   "metadata": {},
   "outputs": [],
   "source": []
  },
  {
   "cell_type": "code",
   "execution_count": null,
   "id": "2e7a6419-c65b-41d4-8981-5100adc8bb6a",
   "metadata": {},
   "outputs": [],
   "source": []
  },
  {
   "cell_type": "code",
   "execution_count": null,
   "id": "6906e9cd-424b-424c-8561-3465edb45b23",
   "metadata": {},
   "outputs": [],
   "source": []
  },
  {
   "cell_type": "code",
   "execution_count": null,
   "id": "5344f27a-4bf8-497b-9d5f-c62d6b1b2015",
   "metadata": {},
   "outputs": [],
   "source": []
  },
  {
   "cell_type": "code",
   "execution_count": null,
   "id": "39833a6d-6d8f-43c1-9cbc-ca621e9cb941",
   "metadata": {},
   "outputs": [],
   "source": []
  },
  {
   "cell_type": "code",
   "execution_count": null,
   "id": "40ee97e9-937e-486a-a10a-6e8ba0ec0e3a",
   "metadata": {},
   "outputs": [],
   "source": []
  },
  {
   "cell_type": "code",
   "execution_count": null,
   "id": "46a3fc28-d028-4b29-8309-5d373a2bb42c",
   "metadata": {},
   "outputs": [],
   "source": []
  },
  {
   "cell_type": "code",
   "execution_count": null,
   "id": "bfc2021d-d084-4111-abd3-9930a7092096",
   "metadata": {},
   "outputs": [],
   "source": []
  },
  {
   "cell_type": "code",
   "execution_count": null,
   "id": "39737dfb-bc64-4ec5-8839-3a9ba94dbd14",
   "metadata": {},
   "outputs": [],
   "source": []
  },
  {
   "cell_type": "code",
   "execution_count": null,
   "id": "e2541be2-492d-41da-8033-81c0b4011d73",
   "metadata": {},
   "outputs": [],
   "source": []
  },
  {
   "cell_type": "code",
   "execution_count": null,
   "id": "c9bddab1-a81b-4d48-8458-ff5ba35bd746",
   "metadata": {},
   "outputs": [],
   "source": []
  },
  {
   "cell_type": "code",
   "execution_count": null,
   "id": "e7968a3a-1ec9-457e-993b-0058a786742f",
   "metadata": {},
   "outputs": [],
   "source": []
  },
  {
   "cell_type": "code",
   "execution_count": null,
   "id": "2a781ac4-b2d5-49c0-a588-f98fd4a14d96",
   "metadata": {},
   "outputs": [],
   "source": []
  },
  {
   "cell_type": "code",
   "execution_count": null,
   "id": "4dabf84a-753e-4bec-b497-e0cbf919793b",
   "metadata": {},
   "outputs": [],
   "source": []
  },
  {
   "cell_type": "code",
   "execution_count": null,
   "id": "822244c5-a1a1-42c4-939c-4658aa49738e",
   "metadata": {},
   "outputs": [],
   "source": []
  },
  {
   "cell_type": "code",
   "execution_count": null,
   "id": "a82688f4-01c1-4827-9dd6-15c17ceac8c5",
   "metadata": {},
   "outputs": [],
   "source": []
  },
  {
   "cell_type": "code",
   "execution_count": null,
   "id": "fc47a62e-9a21-4343-abc4-a5ee86ad09af",
   "metadata": {},
   "outputs": [],
   "source": []
  },
  {
   "cell_type": "code",
   "execution_count": null,
   "id": "9f5d8b6b-0e64-4952-81c0-0f010142b009",
   "metadata": {},
   "outputs": [],
   "source": []
  },
  {
   "cell_type": "code",
   "execution_count": null,
   "id": "e1dd646b-9bbf-48b7-b7e6-b717ca3b5497",
   "metadata": {},
   "outputs": [],
   "source": []
  },
  {
   "cell_type": "code",
   "execution_count": null,
   "id": "a989b2ad-5241-47a3-bb4e-b8fa5862ebc1",
   "metadata": {},
   "outputs": [],
   "source": []
  },
  {
   "cell_type": "code",
   "execution_count": null,
   "id": "81fcb38d-f0a4-4759-8f30-4869e0f7e771",
   "metadata": {},
   "outputs": [],
   "source": []
  },
  {
   "cell_type": "code",
   "execution_count": null,
   "id": "93606f12-f8f6-4566-bb81-761937e9e6bb",
   "metadata": {},
   "outputs": [],
   "source": []
  },
  {
   "cell_type": "code",
   "execution_count": null,
   "id": "152f9c97-d33d-4d2b-a96c-dd6216524b35",
   "metadata": {},
   "outputs": [],
   "source": []
  },
  {
   "cell_type": "code",
   "execution_count": null,
   "id": "4dc0acd7-17ec-447a-8966-ad99f0fde080",
   "metadata": {},
   "outputs": [],
   "source": []
  },
  {
   "cell_type": "code",
   "execution_count": null,
   "id": "b3e4c1f8-22f3-432d-901f-15cc5402effe",
   "metadata": {},
   "outputs": [],
   "source": []
  },
  {
   "cell_type": "code",
   "execution_count": null,
   "id": "5e4e5acd-8702-4f1a-97a8-8447494e9fe1",
   "metadata": {},
   "outputs": [],
   "source": []
  },
  {
   "cell_type": "code",
   "execution_count": null,
   "id": "4f6a550c-75a6-4406-b019-9b635d745b5b",
   "metadata": {},
   "outputs": [],
   "source": []
  },
  {
   "cell_type": "code",
   "execution_count": null,
   "id": "ca64b377-f79d-4304-a33f-5e675ea69eb2",
   "metadata": {},
   "outputs": [],
   "source": []
  },
  {
   "cell_type": "code",
   "execution_count": null,
   "id": "5294742b-3199-46a4-9823-3881690ece71",
   "metadata": {},
   "outputs": [],
   "source": []
  },
  {
   "cell_type": "code",
   "execution_count": null,
   "id": "a7cefc0c-3583-4d7c-a315-e67d69918d2d",
   "metadata": {},
   "outputs": [],
   "source": []
  },
  {
   "cell_type": "code",
   "execution_count": null,
   "id": "b026db8d-ac18-4008-89e6-eaa86b028bef",
   "metadata": {},
   "outputs": [],
   "source": []
  },
  {
   "cell_type": "code",
   "execution_count": null,
   "id": "0b6a1211-889c-4e24-86c0-3c040e3f0d15",
   "metadata": {},
   "outputs": [],
   "source": []
  },
  {
   "cell_type": "code",
   "execution_count": null,
   "id": "ce86c279-f512-4959-9eaf-15f510c4bd1f",
   "metadata": {},
   "outputs": [],
   "source": []
  },
  {
   "cell_type": "code",
   "execution_count": null,
   "id": "045e850f-1fd5-4ae7-8439-f6a0d2d89eeb",
   "metadata": {},
   "outputs": [],
   "source": []
  },
  {
   "cell_type": "code",
   "execution_count": null,
   "id": "e244ff88-03e7-412c-bc4b-002942db777b",
   "metadata": {},
   "outputs": [],
   "source": []
  },
  {
   "cell_type": "code",
   "execution_count": null,
   "id": "8d7d9839-a85a-4b23-9916-a1ace96e8526",
   "metadata": {},
   "outputs": [],
   "source": []
  },
  {
   "cell_type": "code",
   "execution_count": null,
   "id": "3df1e521-5962-492c-af09-2326128af586",
   "metadata": {},
   "outputs": [],
   "source": []
  },
  {
   "cell_type": "code",
   "execution_count": null,
   "id": "8b0f4f1b-12b6-468e-a5d8-403980ce998a",
   "metadata": {},
   "outputs": [],
   "source": []
  }
 ],
 "metadata": {
  "kernelspec": {
   "display_name": "Python 3 (ipykernel)",
   "language": "python",
   "name": "python3"
  },
  "language_info": {
   "codemirror_mode": {
    "name": "ipython",
    "version": 3
   },
   "file_extension": ".py",
   "mimetype": "text/x-python",
   "name": "python",
   "nbconvert_exporter": "python",
   "pygments_lexer": "ipython3",
   "version": "3.11.6"
  }
 },
 "nbformat": 4,
 "nbformat_minor": 5
}
