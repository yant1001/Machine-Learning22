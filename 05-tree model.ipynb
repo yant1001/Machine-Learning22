{
 "cells": [
  {
   "cell_type": "code",
   "execution_count": 1,
   "id": "12af7a3a-6e96-4a97-bc25-4989feafed43",
   "metadata": {},
   "outputs": [],
   "source": [
    "# 불필요한 경고 메시지 삭제\n",
    "import warnings\n",
    "warnings.filterwarnings('ignore')"
   ]
  },
  {
   "cell_type": "markdown",
   "id": "1c34a456-bf4a-4ce3-8283-daa6ea3758d6",
   "metadata": {},
   "source": [
    "# 데이터 불러오기"
   ]
  },
  {
   "cell_type": "code",
   "execution_count": null,
   "id": "e3b42ebc-af6e-40a7-96fa-daf085c67913",
   "metadata": {},
   "outputs": [],
   "source": [
    "from sklearn.datasets import load_iris\n",
    "from sklearn.model_selection import train_test_split\n",
    "\n",
    "iris_Data = load_iris()\n",
    "\n",
    "X_train, X_test, y_train, y"
   ]
  }
 ],
 "metadata": {
  "kernelspec": {
   "display_name": "Python 3 (ipykernel)",
   "language": "python",
   "name": "python3"
  },
  "language_info": {
   "codemirror_mode": {
    "name": "ipython",
    "version": 3
   },
   "file_extension": ".py",
   "mimetype": "text/x-python",
   "name": "python",
   "nbconvert_exporter": "python",
   "pygments_lexer": "ipython3",
   "version": "3.11.6"
  }
 },
 "nbformat": 4,
 "nbformat_minor": 5
}
